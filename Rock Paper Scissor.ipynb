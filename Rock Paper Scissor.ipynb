{
 "cells": [
  {
   "cell_type": "code",
   "execution_count": 1,
   "id": "a7d3d637-24d0-4080-9f58-2eee98c8f3dc",
   "metadata": {},
   "outputs": [],
   "source": [
    "# Logic  - STone paper scissor \n",
    "\n",
    "# player 1 , player 2 - system\n",
    "\n",
    "# player 1 - paper     player 2 - rock\n",
    "                \n",
    "# Rock beats Scissors: Rock smashes Scissors.\n",
    "# Scissors beats Paper: Scissors cuts Paper.\n",
    "# Paper beats Rock: Paper covers Rock."
   ]
  },
  {
   "cell_type": "code",
   "execution_count": 1,
   "id": "2ac09458-e1d0-4fe4-b1c3-5bf7f7b43051",
   "metadata": {},
   "outputs": [],
   "source": [
    "import random"
   ]
  },
  {
   "cell_type": "code",
   "execution_count": 7,
   "id": "9e90f23d-74fa-4dec-bf47-4685f49e11d8",
   "metadata": {},
   "outputs": [],
   "source": [
    "def rules(user_input,computer_input):\n",
    "    if user_input == computer_input:\n",
    "        print(\"its tie\")\n",
    "    elif (user_input == \"stone\" and computer_input == \"scissor\") or \\\n",
    "        (user_input == \"scissor\" and computer_input == \"paper\") or \\\n",
    "        (user_input == \"paper\" and computer_input == \"stone\"):\n",
    "            print(\"player_1 wins\")\n",
    "    else:\n",
    "        print(\"player 1 lost\")"
   ]
  },
  {
   "cell_type": "code",
   "execution_count": 3,
   "id": "12de0e48-7c68-411b-bfea-bac96755ae76",
   "metadata": {},
   "outputs": [],
   "source": [
    "def play():\n",
    "    game = [\"stone\", \"paper\",\"scissor\"]\n",
    "    \n",
    "    while True:\n",
    "        player_1 = input(\"Stone Paper Scissior:\")\n",
    "        if player_1 not in game:\n",
    "            print(\"Invalid option\")\n",
    "        else:\n",
    "            print(\"Your decison is\",player_1)\n",
    "            player_2 =  random.choice(game)\n",
    "            print(\"Computer decision is \",player_2)\n",
    "\n",
    "            rules(player_1,player_2)\n",
    "\n",
    "            inp = input(\"Do you want to play again?\")\n",
    "            if inp == \"yes\":\n",
    "                continue\n",
    "            else:\n",
    "                print(\"you have not said YES. hence closing the game\")\n",
    "                break\n",
    "                "
   ]
  },
  {
   "cell_type": "code",
   "execution_count": 5,
   "id": "8ba37451-8e43-4d6a-a5e9-3fb32c795653",
   "metadata": {},
   "outputs": [
    {
     "name": "stdin",
     "output_type": "stream",
     "text": [
      "Stone Paper Scissior: njdafkd flm'\n"
     ]
    },
    {
     "name": "stdout",
     "output_type": "stream",
     "text": [
      "Invalid option\n"
     ]
    },
    {
     "name": "stdin",
     "output_type": "stream",
     "text": [
      "Stone Paper Scissior: fkbkjldavn\n"
     ]
    },
    {
     "name": "stdout",
     "output_type": "stream",
     "text": [
      "Invalid option\n"
     ]
    },
    {
     "name": "stdin",
     "output_type": "stream",
     "text": [
      "Stone Paper Scissior: dff knv\n"
     ]
    },
    {
     "name": "stdout",
     "output_type": "stream",
     "text": [
      "Invalid option\n"
     ]
    },
    {
     "name": "stdin",
     "output_type": "stream",
     "text": [
      "Stone Paper Scissior: stone\n"
     ]
    },
    {
     "name": "stdout",
     "output_type": "stream",
     "text": [
      "Your decison is stone\n",
      "Computer decision is  scissor\n",
      "player_1 wins\n"
     ]
    },
    {
     "name": "stdin",
     "output_type": "stream",
     "text": [
      "Do you want to play again? yes\n",
      "Stone Paper Scissior: paper\n"
     ]
    },
    {
     "name": "stdout",
     "output_type": "stream",
     "text": [
      "Your decison is paper\n",
      "Computer decision is  scissor\n",
      "player 1 lost\n"
     ]
    },
    {
     "name": "stdin",
     "output_type": "stream",
     "text": [
      "Do you want to play again? no\n"
     ]
    },
    {
     "name": "stdout",
     "output_type": "stream",
     "text": [
      "you have not said YES. hence closing the game\n"
     ]
    }
   ],
   "source": [
    "play()"
   ]
  },
  {
   "cell_type": "code",
   "execution_count": null,
   "id": "e808cd41-bb54-46f9-9cf9-e46da33d5ce5",
   "metadata": {},
   "outputs": [],
   "source": []
  },
  {
   "cell_type": "code",
   "execution_count": null,
   "id": "d7ead665-a08b-467b-a104-c2df4471ee23",
   "metadata": {},
   "outputs": [],
   "source": []
  },
  {
   "cell_type": "code",
   "execution_count": null,
   "id": "c38fb1a8-12be-44f8-b102-24b4763be934",
   "metadata": {},
   "outputs": [],
   "source": []
  },
  {
   "cell_type": "code",
   "execution_count": null,
   "id": "6624085e-1a3a-4ead-ac02-c53bf9debbe3",
   "metadata": {},
   "outputs": [],
   "source": []
  }
 ],
 "metadata": {
  "kernelspec": {
   "display_name": "Python 3 (ipykernel)",
   "language": "python",
   "name": "python3"
  },
  "language_info": {
   "codemirror_mode": {
    "name": "ipython",
    "version": 3
   },
   "file_extension": ".py",
   "mimetype": "text/x-python",
   "name": "python",
   "nbconvert_exporter": "python",
   "pygments_lexer": "ipython3",
   "version": "3.10.9"
  }
 },
 "nbformat": 4,
 "nbformat_minor": 5
}
